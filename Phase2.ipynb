{
 "cells": [
  {
   "cell_type": "markdown",
   "id": "c335b30b",
   "metadata": {},
   "source": [
    "# Project Phase 2\n",
    "## Mohammad Amin Rami 98101588\n",
    "## Milad Heidari 98101469\n",
    "## Mohammad Reza Safavi 98106701"
   ]
  },
  {
   "cell_type": "code",
   "execution_count": 1,
   "id": "4ff3a3a8",
   "metadata": {},
   "outputs": [],
   "source": [
    "import torch\n",
    "from torch.utils.data import Dataset, DataLoader\n",
    "from torch import nn\n",
    "import os\n",
    "from nltk.corpus import stopwords\n",
    "from nltk.tokenize import RegexpTokenizer\n",
    "from sklearn.feature_extraction.text import TfidfVectorizer\n",
    "from transformers import BertTokenizer, BertForSequenceClassification\n",
    "from sklearn.metrics import confusion_matrix\n",
    "from sklearn.metrics import classification_report\n",
    "from sklearn.svm import SVC\n",
    "import seaborn as sns\n",
    "import numpy as np\n",
    "import string\n",
    "import random\n",
    "from tqdm import tqdm\n",
    "\n",
    "device = \"cuda\" if torch.cuda.is_available() else \"cpu\""
   ]
  },
  {
   "cell_type": "markdown",
   "id": "c1b60213",
   "metadata": {},
   "source": [
    "### A custom dataset class"
   ]
  },
  {
   "cell_type": "code",
   "execution_count": 2,
   "id": "3fdf7fc3",
   "metadata": {},
   "outputs": [],
   "source": [
    "class MSCTD(Dataset):\n",
    "    def __init__(self, root='data', mode='train', transform=None, target_transform=None):\n",
    "        self.root = root\n",
    "        self.mode = mode\n",
    "        self.transform = transform\n",
    "        self.target_transform = target_transform\n",
    "        self.data_dir = os.path.join(self.root, 'MSCTD', self.mode, 'texts')\n",
    "        self.texts = []\n",
    "        self.targets = []\n",
    "        self.read_data()\n",
    "\n",
    "    \n",
    "    def read_data(self):\n",
    "        with open(os.path.join(self.data_dir, f'english_{self.mode}.txt')) as file:\n",
    "            for sentence in file:\n",
    "                sentence = MSCTD.pre_processing(sentence)\n",
    "                self.texts.append(sentence)\n",
    "                \n",
    "        with open(os.path.join(self.data_dir, f'sentiment_{self.mode}.txt')) as file:\n",
    "            for sentiment in file:\n",
    "                self.targets.append(int(sentiment.strip()))   \n",
    "    \n",
    "    @staticmethod\n",
    "    def pre_processing(sentence: str):\n",
    "        sentence = sentence.strip().lower().translate(str.maketrans('', '', string.punctuation))\n",
    "        sentence = sentence.split(' ')\n",
    "        sentence = [word for word in sentence if word not in stopwords.words('english')]\n",
    "        sentence = \" \".join(sentence)\n",
    "        return sentence\n",
    "    \n",
    "    def __len__(self):\n",
    "        return len(self.targets)\n",
    "    \n",
    "    def __getitem__(self, index):\n",
    "        text = self.texts[index]\n",
    "        target = self.targets[index]\n",
    "        if self.transform is not None:\n",
    "            text = self.transform(text)\n",
    "\n",
    "        if self.target_transform is not None:\n",
    "            target = self.target_transform(target)\n",
    "\n",
    "        return (text, target)\n"
   ]
  },
  {
   "cell_type": "code",
   "execution_count": 3,
   "id": "197b2902",
   "metadata": {},
   "outputs": [],
   "source": [
    "train_data = MSCTD()\n",
    "test_data = MSCTD(mode='test')"
   ]
  },
  {
   "cell_type": "code",
   "execution_count": 44,
   "id": "5b26c813",
   "metadata": {},
   "outputs": [],
   "source": [
    "vectorizer = TfidfVectorizer()\n",
    "vectorizer.fit(train_data.texts)\n",
    "train_data.transform = lambda x: torch.Tensor(vectorizer.transform([x]).toarray()).to(device).reshape((-1, ))\n",
    "test_data.transform = lambda x: torch.Tensor(vectorizer.transform([x]).toarray()).to(device).reshape((-1, ))"
   ]
  },
  {
   "cell_type": "code",
   "execution_count": 25,
   "id": "697c4d4e",
   "metadata": {},
   "outputs": [],
   "source": [
    "batch_size = 32\n",
    "train_loader = DataLoader(train_data, batch_size=batch_size, shuffle=True)\n",
    "test_loader = DataLoader(test_data, batch_size=batch_size)"
   ]
  },
  {
   "cell_type": "markdown",
   "id": "82e53e73",
   "metadata": {},
   "source": [
    "### TF-IDf based classification of sentences"
   ]
  },
  {
   "cell_type": "code",
   "execution_count": 4,
   "id": "a19d6095",
   "metadata": {},
   "outputs": [],
   "source": [
    "class MLP(nn.Module):\n",
    "    def __init__(self, input_dim):\n",
    "        super().__init__()\n",
    "        self.stack = nn.Sequential(\n",
    "            nn.Linear(input_dim, 1024),\n",
    "            nn.Dropout(),\n",
    "            nn.ReLU(),\n",
    "            nn.Linear(1024, 128),\n",
    "            nn.Dropout(),\n",
    "            nn.ReLU(),\n",
    "            nn.Linear(128, 3)\n",
    "        )\n",
    "        \n",
    "    def forward(self, x):\n",
    "        return self.stack(x)\n",
    "\n"
   ]
  },
  {
   "cell_type": "code",
   "execution_count": 47,
   "id": "3450454a",
   "metadata": {},
   "outputs": [],
   "source": [
    "input_dim = len(vectorizer.get_feature_names_out())\n",
    "model = MLP(input_dim=input_dim).to(device)"
   ]
  },
  {
   "cell_type": "code",
   "execution_count": 9,
   "id": "21bf4665",
   "metadata": {},
   "outputs": [
    {
     "data": {
      "text/plain": [
       "MLP(\n",
       "  (stack): Sequential(\n",
       "    (0): Linear(in_features=10180, out_features=1024, bias=True)\n",
       "    (1): Dropout(p=0.5, inplace=False)\n",
       "    (2): ReLU()\n",
       "    (3): Linear(in_features=1024, out_features=128, bias=True)\n",
       "    (4): Dropout(p=0.5, inplace=False)\n",
       "    (5): ReLU()\n",
       "    (6): Linear(in_features=128, out_features=3, bias=True)\n",
       "  )\n",
       ")"
      ]
     },
     "execution_count": 9,
     "metadata": {},
     "output_type": "execute_result"
    }
   ],
   "source": [
    "model.train()"
   ]
  },
  {
   "cell_type": "code",
   "execution_count": 10,
   "id": "02e9bd01",
   "metadata": {},
   "outputs": [],
   "source": [
    "learning_rate = 1e-4\n",
    "epochs = 2\n",
    "loss_fn = nn.CrossEntropyLoss()\n",
    "optimizer = torch.optim.Adam(model.parameters(), lr=learning_rate)"
   ]
  },
  {
   "cell_type": "code",
   "execution_count": 5,
   "id": "d7c1e2b1",
   "metadata": {},
   "outputs": [],
   "source": [
    "def train_loop(dataloader, model, loss_fn, optimizer):\n",
    "    size = len(dataloader.dataset)\n",
    "    k = int(size/dataloader.batch_size/5)\n",
    "\n",
    "    \n",
    "    for batch, (X, y) in enumerate(dataloader):\n",
    "        X = X.to(device)\n",
    "        y = y.to(device)\n",
    "        pred = model(X)\n",
    "        loss = loss_fn(pred, y)\n",
    "        \n",
    "        optimizer.zero_grad()\n",
    "        loss.backward()\n",
    "        optimizer.step()\n",
    "        \n",
    "        if batch % k == 0:\n",
    "            loss, current = loss.item(), batch * len(X)\n",
    "            print(f\"loss: {loss:>7f}  [{current:>5d}/{size:>5d}]\")\n",
    "\n",
    "def test_loop(dataloader, model, loss_fn):\n",
    "    size = len(dataloader.dataset)\n",
    "    num_batches = len(dataloader)\n",
    "    test_loss, correct = 0, 0\n",
    "\n",
    "    with torch.no_grad():\n",
    "        for X, y in dataloader:\n",
    "            X = X.to(device)\n",
    "            y = y.to(device)\n",
    "            pred = model(X.float())\n",
    "            test_loss += loss_fn(pred, y).item()\n",
    "            correct += (pred.argmax(1) == y).type(torch.float).sum().item()\n",
    "    \n",
    "    test_loss /= num_batches\n",
    "    correct /= size\n",
    "    print(f\"Test Error: \\n Accuracy: {(100*correct):>0.1f}%, Avg loss: {test_loss:>8f} \\n\")\n"
   ]
  },
  {
   "cell_type": "code",
   "execution_count": 12,
   "id": "6681be21",
   "metadata": {},
   "outputs": [
    {
     "name": "stdout",
     "output_type": "stream",
     "text": [
      "Epoch 1\n",
      "-------------------------------\n",
      "loss: 1.100943  [    0/20240]\n",
      "loss: 1.093597  [ 4032/20240]\n",
      "loss: 1.068672  [ 8064/20240]\n",
      "loss: 1.092833  [12096/20240]\n",
      "loss: 1.069563  [16128/20240]\n",
      "loss: 1.123721  [20160/20240]\n",
      "Test Error: \n",
      " Accuracy: 43.5%, Avg loss: 1.065164 \n",
      "\n",
      "Epoch 2\n",
      "-------------------------------\n",
      "loss: 1.042845  [    0/20240]\n",
      "loss: 1.052313  [ 4032/20240]\n",
      "loss: 1.168628  [ 8064/20240]\n",
      "loss: 1.015469  [12096/20240]\n",
      "loss: 1.027939  [16128/20240]\n",
      "loss: 1.055000  [20160/20240]\n",
      "Test Error: \n",
      " Accuracy: 51.4%, Avg loss: 1.001382 \n",
      "\n",
      "Done!\n"
     ]
    }
   ],
   "source": [
    "for epoch in range(epochs):\n",
    "    print(f\"Epoch {epoch + 1}\\n-------------------------------\")\n",
    "    try:\n",
    "        train_loop(train_loader, model, loss_fn, optimizer)\n",
    "        test_loop(test_loader, model, loss_fn)\n",
    "    except KeyboardInterrupt:\n",
    "        print('Training interrupted')\n",
    "print(\"Done!\")"
   ]
  },
  {
   "cell_type": "code",
   "execution_count": 50,
   "id": "916719a8",
   "metadata": {},
   "outputs": [],
   "source": [
    "#torch.save(model, 'phase2mlp.pt')"
   ]
  },
  {
   "cell_type": "markdown",
   "id": "6a4ed6e5",
   "metadata": {},
   "source": [
    "#### Classification metrics"
   ]
  },
  {
   "cell_type": "code",
   "execution_count": 49,
   "id": "9f33dc26",
   "metadata": {},
   "outputs": [
    {
     "name": "stdout",
     "output_type": "stream",
     "text": [
      "============ Classification metrics ============\n",
      "              precision    recall  f1-score   support\n",
      "\n",
      "           0       0.36      0.39      0.38      1298\n",
      "           1       0.56      0.72      0.63      2163\n",
      "           2       0.61      0.33      0.43      1606\n",
      "\n",
      "    accuracy                           0.51      5067\n",
      "   macro avg       0.51      0.48      0.48      5067\n",
      "weighted avg       0.52      0.51      0.50      5067\n",
      "\n",
      "AxesSubplot(0.125,0.11;0.62x0.77)\n"
     ]
    },
    {
     "data": {
      "image/png": "[encoded data removed]",
      "text/plain": [
       "<Figure size 640x480 with 2 Axes>"
      ]
     },
     "metadata": {},
     "output_type": "display_data"
    }
   ],
   "source": [
    "pred = None\n",
    "g_truth = None\n",
    "with torch.no_grad():\n",
    "    for X, y in test_loader:\n",
    "        X = X.to(device)\n",
    "        y = y.to(device)\n",
    "        if pred is None:\n",
    "            pred = model(X.float()).argmax(dim=1).reshape((-1, ))\n",
    "            g_truth = y\n",
    "        else:\n",
    "            pred = torch.cat((pred, model(X.float()).argmax(dim=1).reshape((-1, ))))\n",
    "            g_truth = torch.cat((g_truth, y))\n",
    "\n",
    "print('============ Classification metrics ============')\n",
    "print(classification_report(g_truth.cpu(), pred.cpu()))\n",
    "print(sns.heatmap(confusion_matrix(g_truth.cpu(), pred.cpu(),  normalize='true'), annot=True, cmap='Blues'))\n"
   ]
  },
  {
   "cell_type": "markdown",
   "id": "fbf54209",
   "metadata": {},
   "source": [
    "### Classification Using SVM based vectorization"
   ]
  },
  {
   "cell_type": "code",
   "execution_count": 6,
   "id": "29ae813f",
   "metadata": {},
   "outputs": [
    {
     "data": {
      "text/html": [
       "<style>#sk-container-id-1 {color: black;background-color: white;}#sk-container-id-1 pre{padding: 0;}#sk-container-id-1 div.sk-toggleable {background-color: white;}#sk-container-id-1 label.sk-toggleable__label {cursor: pointer;display: block;width: 100%;margin-bottom: 0;padding: 0.3em;box-sizing: border-box;text-align: center;}#sk-container-id-1 label.sk-toggleable__label-arrow:before {content: \"▸\";float: left;margin-right: 0.25em;color: #696969;}#sk-container-id-1 label.sk-toggleable__label-arrow:hover:before {color: black;}#sk-container-id-1 div.sk-estimator:hover label.sk-toggleable__label-arrow:before {color: black;}#sk-container-id-1 div.sk-toggleable__content {max-height: 0;max-width: 0;overflow: hidden;text-align: left;background-color: #f0f8ff;}#sk-container-id-1 div.sk-toggleable__content pre {margin: 0.2em;color: black;border-radius: 0.25em;background-color: #f0f8ff;}#sk-container-id-1 input.sk-toggleable__control:checked~div.sk-toggleable__content {max-height: 200px;max-width: 100%;overflow: auto;}#sk-container-id-1 input.sk-toggleable__control:checked~label.sk-toggleable__label-arrow:before {content: \"▾\";}#sk-container-id-1 div.sk-estimator input.sk-toggleable__control:checked~label.sk-toggleable__label {background-color: #d4ebff;}#sk-container-id-1 div.sk-label input.sk-toggleable__control:checked~label.sk-toggleable__label {background-color: #d4ebff;}#sk-container-id-1 input.sk-hidden--visually {border: 0;clip: rect(1px 1px 1px 1px);clip: rect(1px, 1px, 1px, 1px);height: 1px;margin: -1px;overflow: hidden;padding: 0;position: absolute;width: 1px;}#sk-container-id-1 div.sk-estimator {font-family: monospace;background-color: #f0f8ff;border: 1px dotted black;border-radius: 0.25em;box-sizing: border-box;margin-bottom: 0.5em;}#sk-container-id-1 div.sk-estimator:hover {background-color: #d4ebff;}#sk-container-id-1 div.sk-parallel-item::after {content: \"\";width: 100%;border-bottom: 1px solid gray;flex-grow: 1;}#sk-container-id-1 div.sk-label:hover label.sk-toggleable__label {background-color: #d4ebff;}#sk-container-id-1 div.sk-serial::before {content: \"\";position: absolute;border-left: 1px solid gray;box-sizing: border-box;top: 0;bottom: 0;left: 50%;z-index: 0;}#sk-container-id-1 div.sk-serial {display: flex;flex-direction: column;align-items: center;background-color: white;padding-right: 0.2em;padding-left: 0.2em;position: relative;}#sk-container-id-1 div.sk-item {position: relative;z-index: 1;}#sk-container-id-1 div.sk-parallel {display: flex;align-items: stretch;justify-content: center;background-color: white;position: relative;}#sk-container-id-1 div.sk-item::before, #sk-container-id-1 div.sk-parallel-item::before {content: \"\";position: absolute;border-left: 1px solid gray;box-sizing: border-box;top: 0;bottom: 0;left: 50%;z-index: -1;}#sk-container-id-1 div.sk-parallel-item {display: flex;flex-direction: column;z-index: 1;position: relative;background-color: white;}#sk-container-id-1 div.sk-parallel-item:first-child::after {align-self: flex-end;width: 50%;}#sk-container-id-1 div.sk-parallel-item:last-child::after {align-self: flex-start;width: 50%;}#sk-container-id-1 div.sk-parallel-item:only-child::after {width: 0;}#sk-container-id-1 div.sk-dashed-wrapped {border: 1px dashed gray;margin: 0 0.4em 0.5em 0.4em;box-sizing: border-box;padding-bottom: 0.4em;background-color: white;}#sk-container-id-1 div.sk-label label {font-family: monospace;font-weight: bold;display: inline-block;line-height: 1.2em;}#sk-container-id-1 div.sk-label-container {text-align: center;}#sk-container-id-1 div.sk-container {/* jupyter's `normalize.less` sets `[hidden] { display: none; }` but bootstrap.min.css set `[hidden] { display: none !important; }` so we also need the `!important` here to be able to override the default hidden behavior on the sphinx rendered scikit-learn.org. See: https://github.com/scikit-learn/scikit-learn/issues/21755 */display: inline-block !important;position: relative;}#sk-container-id-1 div.sk-text-repr-fallback {display: none;}</style><div id=\"sk-container-id-1\" class=\"sk-top-container\"><div class=\"sk-text-repr-fallback\"><pre>TfidfVectorizer()</pre><b>In a Jupyter environment, please rerun this cell to show the HTML representation or trust the notebook. <br />On GitHub, the HTML representation is unable to render, please try loading this page with nbviewer.org.</b></div><div class=\"sk-container\" hidden><div class=\"sk-item\"><div class=\"sk-estimator sk-toggleable\"><input class=\"sk-toggleable__control sk-hidden--visually\" id=\"sk-estimator-id-1\" type=\"checkbox\" checked><label for=\"sk-estimator-id-1\" class=\"sk-toggleable__label sk-toggleable__label-arrow\">TfidfVectorizer</label><div class=\"sk-toggleable__content\"><pre>TfidfVectorizer()</pre></div></div></div></div></div>"
      ],
      "text/plain": [
       "TfidfVectorizer()"
      ]
     },
     "execution_count": 6,
     "metadata": {},
     "output_type": "execute_result"
    }
   ],
   "source": [
    "vectorizer = TfidfVectorizer()\n",
    "vectorizer.fit(train_data.texts)"
   ]
  },
  {
   "cell_type": "code",
   "execution_count": 7,
   "id": "3d0f5484",
   "metadata": {},
   "outputs": [],
   "source": [
    "word2vec = {word: {\"vec\": np.zeros((len(vectorizer.get_feature_names_out()), )), \"count\": 0} for word in vectorizer.get_feature_names_out()}"
   ]
  },
  {
   "cell_type": "code",
   "execution_count": 8,
   "id": "e2b1935c",
   "metadata": {},
   "outputs": [
    {
     "name": "stderr",
     "output_type": "stream",
     "text": [
      "100%|████████████████████████████████████| 20240/20240 [01:13<00:00, 274.71it/s]\n"
     ]
    }
   ],
   "source": [
    "train_data.transform = None\n",
    "test_data.transform = None\n",
    "for i in tqdm(range(len(train_data))):\n",
    "    text, _ = train_data[i]\n",
    "    if len(text.split()) == 0:\n",
    "        continue\n",
    "    else:\n",
    "        svm_model = SVC()\n",
    "        class1_vectors = [vectorizer.transform([word]).toarray() for word in text.split()]\n",
    "        X1 = np.concatenate(class1_vectors, axis=0)\n",
    "        y1 = np.array([1 for _ in range(X1.shape[0])])\n",
    "        \n",
    "        random_text, _ = random.choice(train_data)\n",
    "        while len(random_text.split()) == 0:\n",
    "            random_text, _ = random.choice(train_data)\n",
    "        \n",
    "        class2_vectors = [vectorizer.transform([word]).toarray() for word in random_text.split()]\n",
    "        X2 = np.concatenate(class2_vectors, axis=0)\n",
    "        y2 = np.array([-1 for _ in range(X2.shape[0])])\n",
    "        svm_model.fit(np.concatenate((X1, X2), axis=0), np.concatenate((y1, y2)))\n",
    "        \n",
    "        for index, word in enumerate(text.split()):\n",
    "            vec = svm_model.support_vectors_[np.where(svm_model.support_ == index), :].reshape((-1, ))\n",
    "            if len(vec) == 0:\n",
    "                continue\n",
    "            try:\n",
    "                word2vec[word]['vec'] = (word2vec[word]['count'] * word2vec[word]['vec'] + vec)/(word2vec[word]['count'] + 1)\n",
    "                word2vec[word]['count'] = word2vec[word]['count'] + 1 \n",
    "            except KeyError:\n",
    "                pass\n",
    "            \n"
   ]
  },
  {
   "cell_type": "code",
   "execution_count": 9,
   "id": "c1300a4d",
   "metadata": {},
   "outputs": [],
   "source": [
    "def word2vec_transformer(text):\n",
    "    vecs = [torch.Tensor(word2vec[word]['vec']) for word in text.split() if word in word2vec]\n",
    "    if len(vecs) == 0:\n",
    "        return torch.zeros((len(vectorizer.get_feature_names_out()), ))\n",
    "    return sum(vecs)"
   ]
  },
  {
   "cell_type": "code",
   "execution_count": 10,
   "id": "9be18884",
   "metadata": {},
   "outputs": [
    {
     "data": {
      "text/plain": [
       "MLP(\n",
       "  (stack): Sequential(\n",
       "    (0): Linear(in_features=10180, out_features=1024, bias=True)\n",
       "    (1): Dropout(p=0.5, inplace=False)\n",
       "    (2): ReLU()\n",
       "    (3): Linear(in_features=1024, out_features=128, bias=True)\n",
       "    (4): Dropout(p=0.5, inplace=False)\n",
       "    (5): ReLU()\n",
       "    (6): Linear(in_features=128, out_features=3, bias=True)\n",
       "  )\n",
       ")"
      ]
     },
     "execution_count": 10,
     "metadata": {},
     "output_type": "execute_result"
    }
   ],
   "source": [
    "input_dim = len(vectorizer.get_feature_names_out())\n",
    "mlp_svm = MLP(input_dim=input_dim).to(device)\n",
    "mlp_svm.train()"
   ]
  },
  {
   "cell_type": "code",
   "execution_count": 11,
   "id": "f9d70f5f",
   "metadata": {},
   "outputs": [],
   "source": [
    "train_data.transform = word2vec_transformer\n",
    "test_data.transform = word2vec_transformer"
   ]
  },
  {
   "cell_type": "code",
   "execution_count": 12,
   "id": "95727184",
   "metadata": {},
   "outputs": [],
   "source": [
    "batch_size = 32\n",
    "train_loader = DataLoader(train_data, batch_size=batch_size, shuffle=True)\n",
    "test_loader = DataLoader(test_data, batch_size=batch_size)"
   ]
  },
  {
   "cell_type": "code",
   "execution_count": 13,
   "id": "2ac404d1",
   "metadata": {},
   "outputs": [],
   "source": [
    "learning_rate = 1e-4\n",
    "epochs = 2\n",
    "loss_fn = nn.CrossEntropyLoss()\n",
    "optimizer = torch.optim.Adam(mlp_svm.parameters(), lr=learning_rate)"
   ]
  },
  {
   "cell_type": "code",
   "execution_count": 14,
   "id": "27736079",
   "metadata": {},
   "outputs": [
    {
     "name": "stdout",
     "output_type": "stream",
     "text": [
      "Epoch 1\n",
      "-------------------------------\n",
      "loss: 1.095055  [    0/20240]\n",
      "loss: 1.106707  [ 4032/20240]\n",
      "loss: 1.086718  [ 8064/20240]\n",
      "loss: 1.064128  [12096/20240]\n",
      "loss: 1.017172  [16128/20240]\n",
      "loss: 1.066844  [20160/20240]\n",
      "Test Error: \n",
      " Accuracy: 46.1%, Avg loss: 1.050800 \n",
      "\n",
      "Epoch 2\n",
      "-------------------------------\n",
      "loss: 1.039099  [    0/20240]\n",
      "loss: 0.941680  [ 4032/20240]\n",
      "loss: 1.046713  [ 8064/20240]\n",
      "loss: 0.981010  [12096/20240]\n",
      "loss: 0.767623  [16128/20240]\n",
      "loss: 0.988457  [20160/20240]\n",
      "Test Error: \n",
      " Accuracy: 50.9%, Avg loss: 0.999387 \n",
      "\n",
      "Done!\n"
     ]
    }
   ],
   "source": [
    "for epoch in range(epochs):\n",
    "    print(f\"Epoch {epoch + 1}\\n-------------------------------\")\n",
    "    try:\n",
    "        train_loop(train_loader, mlp_svm, loss_fn, optimizer)\n",
    "        test_loop(test_loader, mlp_svm, loss_fn)\n",
    "    except KeyboardInterrupt:\n",
    "        print('Training interrupted')\n",
    "print(\"Done!\")"
   ]
  },
  {
   "cell_type": "code",
   "execution_count": 16,
   "id": "ca0bcbc0",
   "metadata": {},
   "outputs": [],
   "source": [
    "#torch.save(mlp_svm, 'phase2mlp_svm.pt')"
   ]
  },
  {
   "cell_type": "markdown",
   "id": "4c09106d",
   "metadata": {},
   "source": [
    "#### Classification metrics"
   ]
  },
  {
   "cell_type": "code",
   "execution_count": 19,
   "id": "22f34e38",
   "metadata": {},
   "outputs": [
    {
     "name": "stdout",
     "output_type": "stream",
     "text": [
      "============ Classification metrics ============\n",
      "              precision    recall  f1-score   support\n",
      "\n",
      "           0       0.37      0.54      0.44      1298\n",
      "           1       0.59      0.62      0.60      2163\n",
      "           2       0.62      0.35      0.44      1606\n",
      "\n",
      "    accuracy                           0.51      5067\n",
      "   macro avg       0.52      0.50      0.49      5067\n",
      "weighted avg       0.54      0.51      0.51      5067\n",
      "\n",
      "AxesSubplot(0.125,0.11;0.62x0.77)\n"
     ]
    },
    {
     "data": {
      "image/png": "[encoded data removed]",
      "text/plain": [
       "<Figure size 640x480 with 2 Axes>"
      ]
     },
     "metadata": {},
     "output_type": "display_data"
    }
   ],
   "source": [
    "pred = None\n",
    "g_truth = None\n",
    "with torch.no_grad():\n",
    "    for X, y in test_loader:\n",
    "        X = X.to(device)\n",
    "        y = y.to(device)\n",
    "        if pred is None:\n",
    "            pred = mlp_svm(X.float()).argmax(dim=1).reshape((-1, ))\n",
    "            g_truth = y\n",
    "        else:\n",
    "            pred = torch.cat((pred, mlp_svm(X.float()).argmax(dim=1).reshape((-1, ))))\n",
    "            g_truth = torch.cat((g_truth, y))\n",
    "\n",
    "print('============ Classification metrics ============')\n",
    "print(classification_report(g_truth.cpu(), pred.cpu()))\n",
    "print(sns.heatmap(confusion_matrix(g_truth.cpu(), pred.cpu(),  normalize='true'), annot=True, cmap='Blues'))"
   ]
  },
  {
   "cell_type": "markdown",
   "id": "e16bccf7",
   "metadata": {},
   "source": [
    "### Classification using GloVe vectorization "
   ]
  },
  {
   "cell_type": "code",
   "execution_count": 51,
   "id": "74283ad9",
   "metadata": {},
   "outputs": [],
   "source": [
    "class LSTMClassifier(nn.Module):\n",
    "    def __init__(self, input_size, hidden_size):\n",
    "        super().__init__()\n",
    "        self.hidden_size = hidden_size\n",
    "        self.input_size = input_size\n",
    "        self.lstm = nn.LSTM(input_size, hidden_size)\n",
    "        self.linear = nn.Linear(hidden_size, 3)\n",
    "        \n",
    "    def forward(self, x, h):\n",
    "        output, hidden = self.lstm(x, h)\n",
    "        output = self.linear(output)\n",
    "        return output, hidden\n",
    "\n"
   ]
  },
  {
   "cell_type": "code",
   "execution_count": 52,
   "id": "ebc5167c",
   "metadata": {},
   "outputs": [],
   "source": [
    "glove_dict = {}\n",
    "with open('GloVe/glove.6B.50d.txt') as file:\n",
    "    for line in file:\n",
    "        data = line.split(' ')\n",
    "        word = data[0]\n",
    "        tensor = torch.Tensor([float(num) for num in data[1:]]).to(device)\n",
    "        tensor = tensor.reshape((1, -1))\n",
    "        glove_dict[word] = tensor\n"
   ]
  },
  {
   "cell_type": "code",
   "execution_count": 53,
   "id": "25669c78",
   "metadata": {},
   "outputs": [],
   "source": [
    "def sentence2tensor(sentence):\n",
    "    words = sentence.split(' ')\n",
    "    words = [word for word in words if word in glove_dict]\n",
    "    if len(words) == 0:\n",
    "        return torch.zeros_like(glove_dict['the'])\n",
    "    return torch.cat([glove_dict[word] for word in words], dim=0)\n",
    "\n",
    "train_data.transform = sentence2tensor\n",
    "test_data.transform = sentence2tensor"
   ]
  },
  {
   "cell_type": "code",
   "execution_count": 54,
   "id": "1e201410",
   "metadata": {},
   "outputs": [],
   "source": [
    "def train_loop(dataloader, model, loss_fn, optimizer):\n",
    "    size = len(dataloader.dataset)\n",
    "    k = int(size/dataloader.batch_size/5)\n",
    "    \n",
    "    for batch, (X, y) in enumerate(dataloader):\n",
    "        hidden_state = (torch.zeros((1, model.hidden_size)).to(device), torch.zeros((1, model.hidden_size)).to(device))\n",
    "        seq_len = X.shape[1]\n",
    "        y = y.to(device)\n",
    "        X = X.reshape((seq_len, model.input_size))\n",
    "        for i in range(seq_len):\n",
    "            x = torch.reshape(X[i, :], (1, -1)).to(device)\n",
    "            pred, hidden_state = model(x, hidden_state)\n",
    "\n",
    "        loss = loss_fn(pred, y)\n",
    "        \n",
    "        optimizer.zero_grad()\n",
    "        loss.backward()\n",
    "        optimizer.step()\n",
    "        \n",
    "        if batch % k == 0:\n",
    "            loss, current = loss.item(), batch \n",
    "            print(f\"loss: {loss:>7f}  [{current:>5d}/{size:>5d}]\")\n",
    "\n",
    "def test_loop(dataloader, model, loss_fn):\n",
    "    size = len(dataloader.dataset)\n",
    "    num_batches = len(dataloader)\n",
    "    test_loss, correct = 0, 0\n",
    "\n",
    "    with torch.no_grad():\n",
    "        for X, y in dataloader:\n",
    "            hidden_state = (torch.zeros((1, model.hidden_size)).to(device), torch.zeros((1, model.hidden_size)).to(device))\n",
    "            y = y.to(device)\n",
    "            seq_len = X.shape[1]\n",
    "            X = X.reshape((seq_len, model.input_size))\n",
    "            for i in range(seq_len):\n",
    "                x = torch.reshape(X[i, :], (1, -1)).to(device)\n",
    "                pred, hidden_state = model(x, hidden_state)\n",
    "            test_loss += loss_fn(pred, y).item()\n",
    "            correct += (pred.argmax(1) == y).type(torch.float).sum().item()\n",
    "    \n",
    "    test_loss /= num_batches\n",
    "    correct /= size\n",
    "    print(f\"Test Error: \\n Accuracy: {(100*correct):>0.1f}%, Avg loss: {test_loss:>8f} \\n\")\n"
   ]
  },
  {
   "cell_type": "code",
   "execution_count": 55,
   "id": "6c493efa",
   "metadata": {},
   "outputs": [],
   "source": [
    "train_loader = DataLoader(train_data, batch_size=1, shuffle=True)\n",
    "test_loader = DataLoader(test_data, batch_size=1)"
   ]
  },
  {
   "cell_type": "code",
   "execution_count": 34,
   "id": "87cc1252",
   "metadata": {},
   "outputs": [
    {
     "data": {
      "text/plain": [
       "LSTMClassifier(\n",
       "  (lstm): LSTM(50, 64)\n",
       "  (linear): Linear(in_features=64, out_features=3, bias=True)\n",
       ")"
      ]
     },
     "execution_count": 34,
     "metadata": {},
     "output_type": "execute_result"
    }
   ],
   "source": [
    "rnn_model = LSTMClassifier(50, 64).to(device)\n",
    "rnn_model.train()"
   ]
  },
  {
   "cell_type": "code",
   "execution_count": 35,
   "id": "f67e04cc",
   "metadata": {},
   "outputs": [],
   "source": [
    "learning_rate = 1e-4\n",
    "epochs = 6\n",
    "loss_fn = nn.CrossEntropyLoss()\n",
    "rnn_optimizer = torch.optim.Adam(rnn_model.parameters(), lr=learning_rate)"
   ]
  },
  {
   "cell_type": "code",
   "execution_count": 36,
   "id": "2d558d01",
   "metadata": {},
   "outputs": [
    {
     "name": "stdout",
     "output_type": "stream",
     "text": [
      "Epoch 1\n",
      "-------------------------------\n",
      "loss: 1.067810  [    0/20240]\n",
      "loss: 1.267462  [ 4048/20240]\n",
      "loss: 1.057291  [ 8096/20240]\n",
      "loss: 1.797629  [12144/20240]\n",
      "loss: 1.021151  [16192/20240]\n",
      "Test Error: \n",
      " Accuracy: 50.0%, Avg loss: 1.010462 \n",
      "\n",
      "Epoch 2\n",
      "-------------------------------\n",
      "loss: 1.525786  [    0/20240]\n",
      "loss: 0.578536  [ 4048/20240]\n",
      "loss: 0.581900  [ 8096/20240]\n",
      "loss: 1.418229  [12144/20240]\n",
      "loss: 1.044232  [16192/20240]\n",
      "Test Error: \n",
      " Accuracy: 48.9%, Avg loss: 1.021867 \n",
      "\n",
      "Epoch 3\n",
      "-------------------------------\n",
      "loss: 0.625332  [    0/20240]\n",
      "loss: 1.489163  [ 4048/20240]\n",
      "loss: 0.293975  [ 8096/20240]\n",
      "loss: 2.040463  [12144/20240]\n",
      "loss: 0.744247  [16192/20240]\n",
      "Test Error: \n",
      " Accuracy: 50.8%, Avg loss: 0.999170 \n",
      "\n",
      "Epoch 4\n",
      "-------------------------------\n",
      "loss: 0.658907  [    0/20240]\n",
      "loss: 0.874412  [ 4048/20240]\n",
      "loss: 1.812984  [ 8096/20240]\n",
      "loss: 0.548415  [12144/20240]\n",
      "loss: 0.563508  [16192/20240]\n",
      "Test Error: \n",
      " Accuracy: 50.8%, Avg loss: 0.996476 \n",
      "\n",
      "Epoch 5\n",
      "-------------------------------\n",
      "loss: 0.553036  [    0/20240]\n",
      "loss: 0.801220  [ 4048/20240]\n",
      "loss: 0.685074  [ 8096/20240]\n",
      "loss: 0.477687  [12144/20240]\n",
      "loss: 0.553338  [16192/20240]\n",
      "Test Error: \n",
      " Accuracy: 51.8%, Avg loss: 0.990723 \n",
      "\n",
      "Epoch 6\n",
      "-------------------------------\n",
      "loss: 1.063724  [    0/20240]\n",
      "loss: 1.924580  [ 4048/20240]\n",
      "loss: 1.304991  [ 8096/20240]\n",
      "loss: 1.091464  [12144/20240]\n",
      "loss: 1.171793  [16192/20240]\n",
      "Test Error: \n",
      " Accuracy: 51.1%, Avg loss: 0.992044 \n",
      "\n",
      "Done!\n"
     ]
    }
   ],
   "source": [
    "for epoch in range(epochs):\n",
    "    print(f\"Epoch {epoch + 1}\\n-------------------------------\")\n",
    "    try:\n",
    "        train_loop(train_loader, rnn_model, loss_fn, rnn_optimizer)\n",
    "        test_loop(test_loader, rnn_model, loss_fn)\n",
    "    except KeyboardInterrupt:\n",
    "        print('Training interrupted')\n",
    "        break\n",
    "print(\"Done!\")"
   ]
  },
  {
   "cell_type": "code",
   "execution_count": 57,
   "id": "d25d3d7a",
   "metadata": {},
   "outputs": [],
   "source": [
    "#torch.save(rnn_model, 'phase2rnn.pt')"
   ]
  },
  {
   "cell_type": "markdown",
   "id": "4793969a",
   "metadata": {},
   "source": [
    "#### Classification metrics"
   ]
  },
  {
   "cell_type": "code",
   "execution_count": 58,
   "id": "80034ae2",
   "metadata": {},
   "outputs": [
    {
     "name": "stdout",
     "output_type": "stream",
     "text": [
      "============ Classification metrics ============\n",
      "              precision    recall  f1-score   support\n",
      "\n",
      "           0       0.39      0.53      0.45      1298\n",
      "           1       0.56      0.63      0.60      2163\n",
      "           2       0.62      0.33      0.43      1606\n",
      "\n",
      "    accuracy                           0.51      5067\n",
      "   macro avg       0.52      0.50      0.49      5067\n",
      "weighted avg       0.54      0.51      0.51      5067\n",
      "\n",
      "AxesSubplot(0.125,0.11;0.62x0.77)\n"
     ]
    },
    {
     "data": {
      "image/png": "[encoded data removed]",
      "text/plain": [
       "<Figure size 640x480 with 2 Axes>"
      ]
     },
     "metadata": {},
     "output_type": "display_data"
    }
   ],
   "source": [
    "g_truth = None\n",
    "pred = None\n",
    "with torch.no_grad():\n",
    "    for X, y in test_loader:\n",
    "        hidden_state = (torch.zeros((1, rnn_model.hidden_size)).to(device), torch.zeros((1, rnn_model.hidden_size)).to(device))\n",
    "        y = y.to(device)\n",
    "        seq_len = X.shape[1]\n",
    "        X = X.reshape((seq_len, rnn_model.input_size))\n",
    "        for i in range(seq_len):\n",
    "            x = torch.reshape(X[i, :], (1, -1)).to(device)\n",
    "            output, hidden_state = rnn_model(x, hidden_state)\n",
    "        if pred is None:\n",
    "            pred = output.argmax(dim=1).reshape((-1, ))\n",
    "            g_truth = y\n",
    "        else:\n",
    "            pred = torch.cat((pred, output.argmax(dim=1).reshape((-1, ))))\n",
    "            g_truth = torch.cat((g_truth, y))\n",
    "\n",
    "print('============ Classification metrics ============')\n",
    "print(classification_report(g_truth.cpu(), pred.cpu()))\n",
    "print(sns.heatmap(confusion_matrix(g_truth.cpu(), pred.cpu(),  normalize='true'), annot=True, cmap='Blues'))"
   ]
  },
  {
   "cell_type": "markdown",
   "id": "42c00d67",
   "metadata": {},
   "source": [
    "### Classification using Bert"
   ]
  },
  {
   "cell_type": "code",
   "execution_count": 14,
   "id": "4cbbb6c6",
   "metadata": {},
   "outputs": [
    {
     "name": "stderr",
     "output_type": "stream",
     "text": [
      "Some weights of the model checkpoint at bert-base-uncased were not used when initializing BertForSequenceClassification: ['cls.predictions.decoder.weight', 'cls.predictions.transform.LayerNorm.weight', 'cls.seq_relationship.bias', 'cls.predictions.transform.dense.bias', 'cls.predictions.bias', 'cls.predictions.transform.LayerNorm.bias', 'cls.predictions.transform.dense.weight', 'cls.seq_relationship.weight']\n",
      "- This IS expected if you are initializing BertForSequenceClassification from the checkpoint of a model trained on another task or with another architecture (e.g. initializing a BertForSequenceClassification model from a BertForPreTraining model).\n",
      "- This IS NOT expected if you are initializing BertForSequenceClassification from the checkpoint of a model that you expect to be exactly identical (initializing a BertForSequenceClassification model from a BertForSequenceClassification model).\n",
      "Some weights of BertForSequenceClassification were not initialized from the model checkpoint at bert-base-uncased and are newly initialized: ['classifier.weight', 'classifier.bias']\n",
      "You should probably TRAIN this model on a down-stream task to be able to use it for predictions and inference.\n"
     ]
    }
   ],
   "source": [
    "tokenizer = BertTokenizer.from_pretrained(\n",
    "    'bert-base-uncased'\n",
    ")\n",
    "bert_model = BertForSequenceClassification.from_pretrained(\n",
    "    'bert-base-uncased',\n",
    "    num_labels=3\n",
    ").to(device)"
   ]
  },
  {
   "cell_type": "code",
   "execution_count": 15,
   "id": "62552d24",
   "metadata": {},
   "outputs": [],
   "source": [
    "train_data.transform = lambda text: tokenizer(text, padding='max_length', max_length=25, truncation=True, return_tensors='pt') \n",
    "test_data.transform = lambda text: tokenizer(text, padding='max_length', max_length=25, truncation=True, return_tensors='pt') "
   ]
  },
  {
   "cell_type": "code",
   "execution_count": 16,
   "id": "1a0b2442",
   "metadata": {},
   "outputs": [],
   "source": [
    "learning_rate = 3e-5\n",
    "batch_size = 16\n",
    "epochs = 3"
   ]
  },
  {
   "cell_type": "code",
   "execution_count": 17,
   "id": "0862a576",
   "metadata": {},
   "outputs": [],
   "source": [
    "loss_fn = nn.CrossEntropyLoss()\n",
    "optimizer = torch.optim.AdamW(bert_model.parameters(), lr=learning_rate, eps=1e-8)\n",
    "train_dataloader = DataLoader(train_data, batch_size=batch_size, shuffle=True)\n",
    "test_dataloader = DataLoader(test_data, batch_size=batch_size, shuffle=False)"
   ]
  },
  {
   "cell_type": "code",
   "execution_count": 18,
   "id": "1b317ea5",
   "metadata": {},
   "outputs": [],
   "source": [
    "def train_loop(dataloader, model, loss_fn, optimizer):\n",
    "    model.train()\n",
    "    size = len(dataloader.dataset)\n",
    "    k = int(size/dataloader.batch_size/5)\n",
    "    num_correct = 0\n",
    "    for batch_num, (X, y) in enumerate(dataloader):\n",
    "        losses = []\n",
    "        # forward prop\n",
    "        y = y.to(device)\n",
    "        mask = X['attention_mask'].to(device)\n",
    "        input_id = X['input_ids'].squeeze(1).to(device)\n",
    "        output = model(\n",
    "            input_ids=input_id,\n",
    "            attention_mask=mask,\n",
    "            labels=y)\n",
    "        loss = output.loss\n",
    "        logits = output.logits\n",
    "        losses.append(loss.item())\n",
    "        num_correct += (logits.argmax(dim=1) == y).sum().item()\n",
    "        # back prop\n",
    "        optimizer.zero_grad()\n",
    "        loss.backward()\n",
    "        optimizer.step()\n",
    "        \n",
    "        if batch_num % k == 0:\n",
    "            print(f'batch: {batch_num}, loss: {np.mean(losses):.6f}')\n",
    "            losses = []\n",
    "    \n",
    "    accuracy = num_correct / size\n",
    "    print(f'train_loss: {loss.item():.6f}')\n",
    "    print(f'Train Accuracy: {np.round(accuracy*100,2)}%')\n",
    "    \n",
    "            \n",
    "def test_loop(dataloader, model, loss_fn):\n",
    "    model.eval()\n",
    "    size = len(dataloader.dataset)\n",
    "    num_correct = 0\n",
    "    with torch.no_grad():\n",
    "        for batch_num, (X, y) in enumerate(dataloader):\n",
    "            y = y.to(device)\n",
    "            mask = X['attention_mask'].to(device)\n",
    "            input_id = X['input_ids'].squeeze(1).to(device)\n",
    "            output = model(\n",
    "                input_ids=input_id,\n",
    "                attention_mask=mask,\n",
    "                labels=y)\n",
    "            logits = output.logits\n",
    "            num_correct += (logits.argmax(dim=1) == y).sum().item()\n",
    "                        \n",
    "    accuracy = num_correct / size\n",
    "    print(f'Test Accuracy: {np.round(accuracy*100, 2)}%')"
   ]
  },
  {
   "cell_type": "code",
   "execution_count": 19,
   "id": "68312480",
   "metadata": {},
   "outputs": [
    {
     "name": "stdout",
     "output_type": "stream",
     "text": [
      "Epoch 1\n",
      "-------------------------------\n",
      "batch: 0, loss: 1.105547\n",
      "batch: 253, loss: 1.006641\n",
      "batch: 506, loss: 1.019125\n",
      "batch: 759, loss: 0.797804\n",
      "batch: 1012, loss: 1.151245\n",
      "train_loss: 0.710837\n",
      "Train Accuracy: 54.15%\n",
      "Test Accuracy: 54.47%\n",
      "\n",
      "Epoch 2\n",
      "-------------------------------\n",
      "batch: 0, loss: 0.819278\n",
      "batch: 253, loss: 0.976935\n",
      "batch: 506, loss: 1.249068\n",
      "batch: 759, loss: 0.914047\n",
      "batch: 1012, loss: 1.160728\n",
      "train_loss: 0.705366\n",
      "Train Accuracy: 62.75%\n",
      "Test Accuracy: 54.96%\n",
      "\n",
      "Epoch 3\n",
      "-------------------------------\n",
      "batch: 0, loss: 0.547316\n",
      "batch: 253, loss: 0.925916\n",
      "batch: 506, loss: 0.779455\n",
      "batch: 759, loss: 1.050637\n",
      "batch: 1012, loss: 0.806697\n",
      "train_loss: 0.908105\n",
      "Train Accuracy: 71.63%\n",
      "Test Accuracy: 53.9%\n",
      "\n"
     ]
    }
   ],
   "source": [
    "for epoch in range(1, epochs+1):\n",
    "    print(f\"Epoch {epoch}\\n-------------------------------\")\n",
    "    train_loop(train_dataloader, bert_model, loss_fn, optimizer)\n",
    "    test_loop(test_dataloader, bert_model, loss_fn)\n",
    "    print()"
   ]
  },
  {
   "cell_type": "code",
   "execution_count": 24,
   "id": "0e8054bc",
   "metadata": {},
   "outputs": [],
   "source": [
    "#torch.save(bert_model, 'pahse2bert.pt')"
   ]
  },
  {
   "cell_type": "markdown",
   "id": "73ff575e",
   "metadata": {},
   "source": [
    "#### Classification metrics\n"
   ]
  },
  {
   "cell_type": "code",
   "execution_count": 22,
   "id": "ad702616",
   "metadata": {},
   "outputs": [
    {
     "name": "stdout",
     "output_type": "stream",
     "text": [
      "============ Classification metrics ============\n",
      "              precision    recall  f1-score   support\n",
      "\n",
      "           0       0.40      0.60      0.48      1298\n",
      "           1       0.65      0.58      0.61      2163\n",
      "           2       0.59      0.44      0.50      1606\n",
      "\n",
      "    accuracy                           0.54      5067\n",
      "   macro avg       0.55      0.54      0.53      5067\n",
      "weighted avg       0.57      0.54      0.54      5067\n",
      "\n",
      "AxesSubplot(0.125,0.11;0.62x0.77)\n"
     ]
    },
    {
     "data": {
      "image/png": "[encoded data removed]",
      "text/plain": [
       "<Figure size 640x480 with 2 Axes>"
      ]
     },
     "metadata": {},
     "output_type": "display_data"
    }
   ],
   "source": [
    "g_truth = None\n",
    "pred = None\n",
    "with torch.no_grad():\n",
    "    for batch_num, (X, y) in enumerate(test_dataloader):\n",
    "        y = y.to(device)\n",
    "        mask = X['attention_mask'].to(device)\n",
    "        input_id = X['input_ids'].squeeze(1).to(device)\n",
    "        output = bert_model(\n",
    "            input_ids=input_id,\n",
    "            attention_mask=mask,\n",
    "            labels=y)\n",
    "        logits = output.logits\n",
    "        if pred is None:\n",
    "            pred = logits.argmax(dim=1).reshape((-1, ))\n",
    "            g_truth = y\n",
    "        else:\n",
    "            pred = torch.cat((pred, logits.argmax(dim=1).reshape((-1, ))))\n",
    "            g_truth = torch.cat((g_truth, y))\n",
    "\n",
    "        \n",
    "print('============ Classification metrics ============')\n",
    "print(classification_report(g_truth.cpu(), pred.cpu()))\n",
    "print(sns.heatmap(confusion_matrix(g_truth.cpu(), pred.cpu(),  normalize='true'), annot=True, cmap='Blues'))"
   ]
  }
 ],
 "metadata": {
  "kernelspec": {
   "display_name": "Python 3 (ipykernel)",
   "language": "python",
   "name": "python3"
  },
  "language_info": {
   "codemirror_mode": {
    "name": "ipython",
    "version": 3
   },
   "file_extension": ".py",
   "mimetype": "text/x-python",
   "name": "python",
   "nbconvert_exporter": "python",
   "pygments_lexer": "ipython3",
   "version": "3.10.6"
  }
 },
 "nbformat": 4,
 "nbformat_minor": 5
}
